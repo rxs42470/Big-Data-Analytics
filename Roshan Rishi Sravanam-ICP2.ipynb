{
  "nbformat": 4,
  "nbformat_minor": 0,
  "metadata": {
    "colab": {
      "provenance": []
    },
    "kernelspec": {
      "name": "python3",
      "display_name": "Python 3"
    },
    "language_info": {
      "name": "python"
    }
  },
  "cells": [
    {
      "cell_type": "markdown",
      "source": [],
      "metadata": {
        "id": "tDUu_zFHtoIj"
      }
    },
    {
      "cell_type": "markdown",
      "source": [
        "counter.count is used to save the total number of increments that takes place in all instances\n",
        "\n",
        "self._count is used to store the total number of increments that take place in that specific instance.\n",
        "\n",
        "\n",
        "output for a.getcount()= instance count: 2 and class count:3\n",
        "output for b.getcount()=instance count: 1 and class count:3\n",
        "\n",
        "Whenever the increment() is called, it increments the self._count and Counter.count"
      ],
      "metadata": {
        "id": "bXk60a1GuWGl"
      }
    },
    {
      "cell_type": "code",
      "source": [
        "def sum_all(*args):\n",
        "    return sum(args)\n",
        "\n",
        "print(\"Sum of 1, 2, 3 is:\", sum_all(1, 2, 3))\n",
        "print(\"Sum of 4, 5, 6, 7 is:\", sum_all(4, 5, 6, 7))\n"
      ],
      "metadata": {
        "colab": {
          "base_uri": "https://localhost:8080/"
        },
        "id": "Jd6eGVGRwS0r",
        "outputId": "0d70b7cd-3374-4068-f2b5-cef998a6959b"
      },
      "execution_count": 3,
      "outputs": [
        {
          "output_type": "stream",
          "name": "stdout",
          "text": [
            "Sum of 1, 2, 3 is: 6\n",
            "Sum of 4, 5, 6, 7 is: 22\n"
          ]
        }
      ]
    },
    {
      "cell_type": "code",
      "source": [
        "def first_letter(names):\n",
        "  names.sort()\n",
        "  return names[0]\n",
        "\n",
        "students = ['Roshan','Varun','Avinash','Murali','Meghana','Rishi']\n",
        "first_letter(students)\n"
      ],
      "metadata": {
        "colab": {
          "base_uri": "https://localhost:8080/",
          "height": 35
        },
        "id": "HJ8I44lkw2Y7",
        "outputId": "efe3efe1-0b6e-47b4-d6b9-7d82190943b2"
      },
      "execution_count": 5,
      "outputs": [
        {
          "output_type": "execute_result",
          "data": {
            "text/plain": [
              "'Avinash'"
            ],
            "application/vnd.google.colaboratory.intrinsic+json": {
              "type": "string"
            }
          },
          "metadata": {},
          "execution_count": 5
        }
      ]
    },
    {
      "cell_type": "code",
      "source": [
        "class Employee:\n",
        "    employee_count = 0\n",
        "    total_salary = 0\n",
        "\n",
        "    def __init__(self, name, family, salary, department):\n",
        "        self.name = name\n",
        "        self.family = family\n",
        "        self.salary = salary\n",
        "        self.department = department\n",
        "\n",
        "        Employee.employee_count += 1\n",
        "        Employee.total_salary += salary\n",
        "\n",
        "    @classmethod\n",
        "    def average_salary(cls):\n",
        "        if cls.employee_count == 0:\n",
        "            return 0\n",
        "        return cls.total_salary / cls.employee_count\n",
        "\n",
        "    def display_info(self):\n",
        "        print(f\"Name: {self.name}, Family: {self.family}, Salary: {self.salary}, Department: {self.department}\")\n",
        "\n",
        "\n",
        "class FulltimeEmployee(Employee):\n",
        "    def __init__(self, name, family, salary, department):\n",
        "        super().__init__(name, family, salary, department)\n",
        "\n",
        "\n",
        "e1 = Employee(\"Roshan\", \"Rishi\", 50000, \"HR\")\n",
        "e2 = FulltimeEmployee(\"Varun\", \"Varma\", 60000, \"Engineering\")\n",
        "e3 = FulltimeEmployee(\"Meghana\", \"Sravanam\", 70000, \"Marketing\")\n",
        "\n",
        "\n",
        "e1.display_info()\n",
        "e2.display_info()\n",
        "e3.display_info()\n",
        "\n",
        "print(f\"\\nTotal Employees: {Employee.employee_count}\")\n",
        "print(f\"Average Salary: {Employee.average_salary()}\")\n"
      ],
      "metadata": {
        "colab": {
          "base_uri": "https://localhost:8080/"
        },
        "id": "4WwDTc81ynM6",
        "outputId": "5f47d9f4-3694-424b-9f3b-536887015900"
      },
      "execution_count": 6,
      "outputs": [
        {
          "output_type": "stream",
          "name": "stdout",
          "text": [
            "Name: Roshan, Family: Rishi, Salary: 50000, Department: HR\n",
            "Name: Varun, Family: Varma, Salary: 60000, Department: Engineering\n",
            "Name: Meghana, Family: Sravanam, Salary: 70000, Department: Marketing\n",
            "\n",
            "Total Employees: 3\n",
            "Average Salary: 60000.0\n"
          ]
        }
      ]
    }
  ]
}