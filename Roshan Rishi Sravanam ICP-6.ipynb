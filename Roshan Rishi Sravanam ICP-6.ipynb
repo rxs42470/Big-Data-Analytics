{
  "cells": [
    {
      "cell_type": "markdown",
      "id": "2fa74b0a",
      "metadata": {
        "id": "2fa74b0a"
      },
      "source": [
        "# High-Accuracy MNIST Classifier \n",
      ]
    },
    {
      "cell_type": "code",
      "execution_count": 3,
      "id": "8fd3d38d",
      "metadata": {
        "colab": {
          "base_uri": "https://localhost:8080/"
        },
        "id": "8fd3d38d",
        "outputId": "2173330e-a8d2-4569-c9ba-6b73ceb83ebe"
      },
      "outputs": [
        {
          "output_type": "stream",
          "name": "stdout",
          "text": [
            "Downloading data from https://storage.googleapis.com/tensorflow/tf-keras-datasets/mnist.npz\n",
            "\u001b[1m11490434/11490434\u001b[0m \u001b[32m━━━━━━━━━━━━━━━━━━━━\u001b[0m\u001b[37m\u001b[0m \u001b[1m0s\u001b[0m 0us/step\n"
          ]
        }
      ],
      "source": [
        "import numpy as np\n",
        "import tensorflow as tf\n",
        "from tensorflow.keras.models import Sequential\n",
        "from tensorflow.keras.layers import Dense, Flatten\n",
        "from tensorflow.keras.datasets import mnist\n",
        "from tensorflow.keras.utils import to_categorical\n",
        "\n",
        "# Load and preprocess data\n",
        "(x_train, y_train), (x_test, y_test) = mnist.load_data()\n",
        "x_train, x_test = x_train / 255.0, x_test / 255.0\n",
        "y_train = to_categorical(y_train, 10)\n",
        "y_test = to_categorical(y_test, 10)\n"
      ]
    },
    {
      "cell_type": "code",
      "execution_count": 7,
      "id": "e9bede30",
      "metadata": {
        "colab": {
          "base_uri": "https://localhost:8080/"
        },
        "id": "e9bede30",
        "outputId": "b0ab9d30-25e7-4ce8-b314-869dac31f054"
      },
      "outputs": [
        {
          "output_type": "stream",
          "name": "stdout",
          "text": [
            "Epoch 1/64\n",
            "422/422 - 12s - 27ms/step - accuracy: 0.9189 - loss: 0.2692 - val_accuracy: 0.9658 - val_loss: 0.1089\n",
            "Epoch 2/64\n",
            "422/422 - 11s - 25ms/step - accuracy: 0.9705 - loss: 0.0959 - val_accuracy: 0.9725 - val_loss: 0.0915\n",
            "Epoch 3/64\n",
            "422/422 - 9s - 22ms/step - accuracy: 0.9803 - loss: 0.0642 - val_accuracy: 0.9775 - val_loss: 0.0808\n",
            "Epoch 4/64\n",
            "422/422 - 10s - 25ms/step - accuracy: 0.9838 - loss: 0.0533 - val_accuracy: 0.9750 - val_loss: 0.0892\n",
            "Epoch 5/64\n",
            "422/422 - 20s - 46ms/step - accuracy: 0.9874 - loss: 0.0410 - val_accuracy: 0.9822 - val_loss: 0.0655\n",
            "Epoch 6/64\n",
            "422/422 - 9s - 22ms/step - accuracy: 0.9899 - loss: 0.0335 - val_accuracy: 0.9782 - val_loss: 0.0876\n",
            "Epoch 7/64\n",
            "422/422 - 9s - 22ms/step - accuracy: 0.9909 - loss: 0.0287 - val_accuracy: 0.9815 - val_loss: 0.0776\n",
            "Epoch 8/64\n",
            "422/422 - 9s - 20ms/step - accuracy: 0.9925 - loss: 0.0239 - val_accuracy: 0.9797 - val_loss: 0.0759\n",
            "Epoch 9/64\n",
            "422/422 - 11s - 25ms/step - accuracy: 0.9926 - loss: 0.0240 - val_accuracy: 0.9808 - val_loss: 0.0760\n",
            "Epoch 10/64\n",
            "422/422 - 9s - 23ms/step - accuracy: 0.9934 - loss: 0.0220 - val_accuracy: 0.9802 - val_loss: 0.0664\n",
            "Epoch 11/64\n",
            "422/422 - 9s - 22ms/step - accuracy: 0.9947 - loss: 0.0176 - val_accuracy: 0.9800 - val_loss: 0.0911\n",
            "Epoch 12/64\n",
            "422/422 - 10s - 24ms/step - accuracy: 0.9946 - loss: 0.0175 - val_accuracy: 0.9833 - val_loss: 0.0751\n",
            "Epoch 13/64\n",
            "422/422 - 11s - 26ms/step - accuracy: 0.9950 - loss: 0.0174 - val_accuracy: 0.9787 - val_loss: 0.1062\n",
            "Epoch 14/64\n",
            "422/422 - 10s - 24ms/step - accuracy: 0.9952 - loss: 0.0169 - val_accuracy: 0.9798 - val_loss: 0.0863\n",
            "Epoch 15/64\n",
            "422/422 - 10s - 23ms/step - accuracy: 0.9961 - loss: 0.0137 - val_accuracy: 0.9827 - val_loss: 0.0777\n",
            "Epoch 16/64\n",
            "422/422 - 11s - 25ms/step - accuracy: 0.9963 - loss: 0.0125 - val_accuracy: 0.9835 - val_loss: 0.0723\n",
            "Epoch 17/64\n",
            "422/422 - 10s - 23ms/step - accuracy: 0.9961 - loss: 0.0137 - val_accuracy: 0.9800 - val_loss: 0.0881\n",
            "Epoch 18/64\n",
            "422/422 - 10s - 25ms/step - accuracy: 0.9959 - loss: 0.0142 - val_accuracy: 0.9823 - val_loss: 0.0874\n",
            "Epoch 19/64\n",
            "422/422 - 9s - 22ms/step - accuracy: 0.9963 - loss: 0.0141 - val_accuracy: 0.9835 - val_loss: 0.0893\n",
            "Epoch 20/64\n",
            "422/422 - 11s - 25ms/step - accuracy: 0.9967 - loss: 0.0122 - val_accuracy: 0.9817 - val_loss: 0.0875\n",
            "Epoch 21/64\n",
            "422/422 - 10s - 23ms/step - accuracy: 0.9979 - loss: 0.0087 - val_accuracy: 0.9808 - val_loss: 0.0903\n",
            "Epoch 22/64\n",
            "422/422 - 9s - 22ms/step - accuracy: 0.9979 - loss: 0.0071 - val_accuracy: 0.9842 - val_loss: 0.0847\n",
            "Epoch 23/64\n",
            "422/422 - 10s - 23ms/step - accuracy: 0.9978 - loss: 0.0099 - val_accuracy: 0.9825 - val_loss: 0.0933\n",
            "Epoch 24/64\n",
            "422/422 - 10s - 23ms/step - accuracy: 0.9974 - loss: 0.0100 - val_accuracy: 0.9818 - val_loss: 0.1068\n",
            "Epoch 25/64\n",
            "422/422 - 9s - 22ms/step - accuracy: 0.9966 - loss: 0.0126 - val_accuracy: 0.9843 - val_loss: 0.0867\n",
            "Epoch 26/64\n",
            "422/422 - 9s - 22ms/step - accuracy: 0.9980 - loss: 0.0082 - val_accuracy: 0.9813 - val_loss: 0.0984\n",
            "Epoch 27/64\n",
            "422/422 - 10s - 25ms/step - accuracy: 0.9981 - loss: 0.0076 - val_accuracy: 0.9772 - val_loss: 0.1143\n",
            "Epoch 28/64\n",
            "422/422 - 9s - 21ms/step - accuracy: 0.9972 - loss: 0.0126 - val_accuracy: 0.9837 - val_loss: 0.0777\n",
            "Epoch 29/64\n",
            "422/422 - 10s - 23ms/step - accuracy: 0.9984 - loss: 0.0068 - val_accuracy: 0.9777 - val_loss: 0.1113\n",
            "Epoch 30/64\n",
            "422/422 - 10s - 24ms/step - accuracy: 0.9980 - loss: 0.0081 - val_accuracy: 0.9840 - val_loss: 0.0757\n",
            "Epoch 31/64\n",
            "422/422 - 10s - 24ms/step - accuracy: 0.9982 - loss: 0.0063 - val_accuracy: 0.9807 - val_loss: 0.1109\n",
            "Epoch 32/64\n",
            "422/422 - 10s - 24ms/step - accuracy: 0.9986 - loss: 0.0068 - val_accuracy: 0.9822 - val_loss: 0.0910\n",
            "Epoch 33/64\n",
            "422/422 - 10s - 23ms/step - accuracy: 0.9980 - loss: 0.0075 - val_accuracy: 0.9825 - val_loss: 0.0958\n",
            "Epoch 34/64\n",
            "422/422 - 11s - 25ms/step - accuracy: 0.9979 - loss: 0.0077 - val_accuracy: 0.9850 - val_loss: 0.0948\n",
            "Epoch 35/64\n",
            "422/422 - 9s - 22ms/step - accuracy: 0.9984 - loss: 0.0069 - val_accuracy: 0.9845 - val_loss: 0.1019\n",
            "Epoch 36/64\n",
            "422/422 - 10s - 23ms/step - accuracy: 0.9985 - loss: 0.0058 - val_accuracy: 0.9847 - val_loss: 0.0824\n",
            "Epoch 37/64\n",
            "422/422 - 10s - 24ms/step - accuracy: 0.9984 - loss: 0.0056 - val_accuracy: 0.9865 - val_loss: 0.0882\n",
            "Epoch 38/64\n",
            "422/422 - 10s - 25ms/step - accuracy: 0.9987 - loss: 0.0053 - val_accuracy: 0.9840 - val_loss: 0.0946\n",
            "Epoch 39/64\n",
            "422/422 - 10s - 25ms/step - accuracy: 0.9978 - loss: 0.0093 - val_accuracy: 0.9830 - val_loss: 0.0973\n",
            "Epoch 40/64\n",
            "422/422 - 10s - 24ms/step - accuracy: 0.9981 - loss: 0.0071 - val_accuracy: 0.9782 - val_loss: 0.1452\n",
            "Epoch 41/64\n",
            "422/422 - 10s - 24ms/step - accuracy: 0.9986 - loss: 0.0062 - val_accuracy: 0.9827 - val_loss: 0.0954\n",
            "Epoch 42/64\n",
            "422/422 - 10s - 24ms/step - accuracy: 0.9989 - loss: 0.0056 - val_accuracy: 0.9862 - val_loss: 0.0829\n",
            "Epoch 43/64\n",
            "422/422 - 9s - 22ms/step - accuracy: 0.9996 - loss: 0.0026 - val_accuracy: 0.9870 - val_loss: 0.0945\n",
            "Epoch 44/64\n",
            "422/422 - 11s - 27ms/step - accuracy: 0.9998 - loss: 8.1979e-04 - val_accuracy: 0.9877 - val_loss: 0.1072\n",
            "Epoch 45/64\n",
            "422/422 - 10s - 24ms/step - accuracy: 0.9981 - loss: 0.0093 - val_accuracy: 0.9840 - val_loss: 0.0990\n",
            "Epoch 46/64\n",
            "422/422 - 10s - 24ms/step - accuracy: 0.9977 - loss: 0.0092 - val_accuracy: 0.9837 - val_loss: 0.1070\n",
            "Epoch 47/64\n",
            "422/422 - 10s - 24ms/step - accuracy: 0.9978 - loss: 0.0082 - val_accuracy: 0.9850 - val_loss: 0.0907\n",
            "Epoch 48/64\n",
            "422/422 - 10s - 24ms/step - accuracy: 0.9986 - loss: 0.0056 - val_accuracy: 0.9837 - val_loss: 0.0981\n",
            "Epoch 49/64\n",
            "422/422 - 10s - 23ms/step - accuracy: 0.9997 - loss: 0.0015 - val_accuracy: 0.9857 - val_loss: 0.0933\n",
            "Epoch 50/64\n",
            "422/422 - 10s - 23ms/step - accuracy: 0.9985 - loss: 0.0080 - val_accuracy: 0.9857 - val_loss: 0.0935\n",
            "Epoch 51/64\n",
            "422/422 - 10s - 23ms/step - accuracy: 0.9990 - loss: 0.0046 - val_accuracy: 0.9847 - val_loss: 0.1060\n",
            "Epoch 52/64\n",
            "422/422 - 10s - 24ms/step - accuracy: 0.9980 - loss: 0.0075 - val_accuracy: 0.9803 - val_loss: 0.1282\n",
            "Epoch 53/64\n",
            "422/422 - 10s - 24ms/step - accuracy: 0.9989 - loss: 0.0045 - val_accuracy: 0.9857 - val_loss: 0.0934\n",
            "Epoch 54/64\n",
            "422/422 - 10s - 24ms/step - accuracy: 0.9994 - loss: 0.0022 - val_accuracy: 0.9853 - val_loss: 0.0963\n",
            "Epoch 55/64\n",
            "422/422 - 10s - 24ms/step - accuracy: 0.9987 - loss: 0.0056 - val_accuracy: 0.9848 - val_loss: 0.0975\n",
            "Epoch 56/64\n",
            "422/422 - 10s - 23ms/step - accuracy: 0.9985 - loss: 0.0070 - val_accuracy: 0.9845 - val_loss: 0.0991\n",
            "Epoch 57/64\n",
            "422/422 - 11s - 25ms/step - accuracy: 0.9991 - loss: 0.0036 - val_accuracy: 0.9840 - val_loss: 0.1058\n",
            "Epoch 58/64\n",
            "422/422 - 10s - 24ms/step - accuracy: 0.9987 - loss: 0.0055 - val_accuracy: 0.9850 - val_loss: 0.1122\n",
            "Epoch 59/64\n",
            "422/422 - 10s - 23ms/step - accuracy: 0.9985 - loss: 0.0063 - val_accuracy: 0.9838 - val_loss: 0.1127\n",
            "Epoch 60/64\n",
            "422/422 - 10s - 24ms/step - accuracy: 0.9992 - loss: 0.0035 - val_accuracy: 0.9843 - val_loss: 0.1079\n",
            "Epoch 61/64\n",
            "422/422 - 10s - 24ms/step - accuracy: 0.9996 - loss: 0.0013 - val_accuracy: 0.9850 - val_loss: 0.1282\n",
            "Epoch 62/64\n",
            "422/422 - 10s - 24ms/step - accuracy: 0.9991 - loss: 0.0049 - val_accuracy: 0.9825 - val_loss: 0.1619\n",
            "Epoch 63/64\n",
            "422/422 - 10s - 23ms/step - accuracy: 0.9974 - loss: 0.0108 - val_accuracy: 0.9832 - val_loss: 0.1018\n",
            "Epoch 64/64\n",
            "422/422 - 10s - 24ms/step - accuracy: 0.9989 - loss: 0.0044 - val_accuracy: 0.9845 - val_loss: 0.1144\n"
          ]
        },
        {
          "output_type": "execute_result",
          "data": {
            "text/plain": [
              "<keras.src.callbacks.history.History at 0x79faa4f776d0>"
            ]
          },
          "metadata": {},
          "execution_count": 7
        }
      ],
      "source": [
        "# Build deeper model\n",
        "model = Sequential([\n",
        "    Flatten(input_shape=(28, 28)),\n",
        "    Dense(1024, activation='relu'),\n",
        "    Dense(512, activation='relu'),\n",
        "    Dense(256, activation='relu'),\n",
        "    Dense(128, activation='relu'),\n",
        "    Dense(64, activation='relu'),\n",
        "    Dense(32, activation='relu'),\n",
        "    Dense(10, activation='softmax')\n",
        "])\n",
        "\n",
        "# Compile model\n",
        "model.compile(optimizer='adam', loss='categorical_crossentropy', metrics=['accuracy'])\n",
        "\n",
        "# Train model\n",
        "model.fit(x_train, y_train, epochs=64, batch_size=128, validation_split=0.1, verbose=2)\n"
      ]
    },
    {
      "cell_type": "code",
      "execution_count": 8,
      "id": "50ce6167",
      "metadata": {
        "colab": {
          "base_uri": "https://localhost:8080/"
        },
        "id": "50ce6167",
        "outputId": "9ee6307e-b8f5-4c3b-b2ec-3baaeae2e255"
      },
      "outputs": [
        {
          "output_type": "stream",
          "name": "stdout",
          "text": [
            "Test accuracy: 98.47%\n"
          ]
        }
      ],
      "source": [
        "# Evaluate accuracy\n",
        "test_loss, test_acc = model.evaluate(x_test, y_test, verbose=0)\n",
        "print(f\"Test accuracy: {test_acc * 100:.2f}%\")\n"
      ]
    }
  ],
  "metadata": {
    "colab": {
      "provenance": []
    },
    "language_info": {
      "name": "python"
    },
    "kernelspec": {
      "name": "python3",
      "display_name": "Python 3"
    }
  },
  "nbformat": 4,
  "nbformat_minor": 5
}
