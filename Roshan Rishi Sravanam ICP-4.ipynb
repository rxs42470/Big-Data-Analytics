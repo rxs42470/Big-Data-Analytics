{
  "nbformat": 4,
  "nbformat_minor": 0,
  "metadata": {
    "colab": {
      "provenance": []
    },
    "kernelspec": {
      "name": "python3",
      "display_name": "Python 3"
    },
    "language_info": {
      "name": "python"
    }
  },
  "cells": [
    {
      "cell_type": "code",
      "execution_count": null,
      "metadata": {
        "id": "Cdv7Bl6xvvVs"
      },
      "outputs": [],
      "source": [
        "import pandas as pd\n",
        "import numpy as np\n",
        "import matplotlib.pyplot as plt"
      ]
    },
    {
      "cell_type": "code",
      "source": [
        "data={\n",
        "    'ID': np.arange(1,1000001),\n",
        "    'Value': np.random.rand(1000000),\n",
        "    'Category': np.random.choice(['A', 'B', 'C','D'], size=1000000)\n",
        "}\n",
        "df=pd.DataFrame(data)\n"
      ],
      "metadata": {
        "id": "cYSyesDVx-JX"
      },
      "execution_count": 13,
      "outputs": []
    },
    {
      "cell_type": "code",
      "source": [
        "print(\"Step 2: First 10 Rows\")\n",
        "print(df.head(10))"
      ],
      "metadata": {
        "colab": {
          "base_uri": "https://localhost:8080/"
        },
        "id": "Tl_qN2xgyBO3",
        "outputId": "288cc3e6-b8a8-4f1a-ede0-3bd32055eb86"
      },
      "execution_count": 14,
      "outputs": [
        {
          "output_type": "stream",
          "name": "stdout",
          "text": [
            "Step 2: First 10 Rows\n",
            "   ID     Value Category\n",
            "0   1  0.253651        B\n",
            "1   2  0.070182        A\n",
            "2   3  0.013964        C\n",
            "3   4  0.525315        A\n",
            "4   5  0.077588        A\n",
            "5   6  0.208332        A\n",
            "6   7  0.718760        A\n",
            "7   8  0.848796        A\n",
            "8   9  0.184026        B\n",
            "9  10  0.767113        A\n"
          ]
        }
      ]
    },
    {
      "cell_type": "code",
      "source": [
        "print(\"\\nStep 3: 'Value' Column\")\n",
        "print(df[\"Value\"])"
      ],
      "metadata": {
        "colab": {
          "base_uri": "https://localhost:8080/"
        },
        "id": "06vRepQuyGaB",
        "outputId": "7a60fbb8-0864-463e-ed38-dafb45551732"
      },
      "execution_count": 15,
      "outputs": [
        {
          "output_type": "stream",
          "name": "stdout",
          "text": [
            "\n",
            "Step 3: 'Value' Column\n",
            "0         0.253651\n",
            "1         0.070182\n",
            "2         0.013964\n",
            "3         0.525315\n",
            "4         0.077588\n",
            "            ...   \n",
            "999995    0.874406\n",
            "999996    0.184338\n",
            "999997    0.029331\n",
            "999998    0.417400\n",
            "999999    0.282959\n",
            "Name: Value, Length: 1000000, dtype: float64\n"
          ]
        }
      ]
    },
    {
      "cell_type": "code",
      "source": [
        "df.columns = [\"ID number\", \"Random value\", \"Choice\"]\n",
        "print(\"\\nStep 4: Modified Columns (First 5 Rows)\")\n",
        "print(df.head())"
      ],
      "metadata": {
        "colab": {
          "base_uri": "https://localhost:8080/"
        },
        "id": "jzC2X0v8yIVK",
        "outputId": "39684de5-6328-49e2-8287-cfefc5f3f633"
      },
      "execution_count": 17,
      "outputs": [
        {
          "output_type": "stream",
          "name": "stdout",
          "text": [
            "\n",
            "Step 4: Modified Columns (First 5 Rows)\n",
            "   ID number  Random value Choice\n",
            "0          1      0.253651      B\n",
            "1          2      0.070182      A\n",
            "2          3      0.013964      C\n",
            "3          4      0.525315      A\n",
            "4          5      0.077588      A\n"
          ]
        }
      ]
    },
    {
      "cell_type": "code",
      "source": [
        "import pandas as pd\n",
        "\n",
        "\n",
        "pd.set_option('display.max_rows', None)\n",
        "pd.set_option('display.max_columns', None)\n",
        "\n",
        "\n",
        "student_data = pd.DataFrame({\n",
        "    'school_code': ['s001', 's002', 's003', 's001', 's002', 's004'],\n",
        "    'class': ['V', 'V', 'VI', 'VI', 'V', 'VI'],\n",
        "    'name': ['Alberto Franco', 'Gino Mcneill', 'Ryan Parkes', 'Eesha Hinton', 'David Parkes', 'Gino Mcneill'],\n",
        "    'date_of_birth': ['15/05/2002', '17/05/2002', '16/02/1999', '25/09/1998', '11/05/2002', '15/09/1997'],\n",
        "    'age': [12, 12, 13, 13, 14, 12],\n",
        "    'height': [173, 192, 186, 167, 151, 159],\n",
        "    'weight': [35, 32, 33, 30, 31, 32]\n",
        "})\n",
        "\n",
        "\n",
        "print(\"Original DataFrame:\")\n",
        "print(student_data)\n",
        "\n",
        "\n",
        "print(\"\\nSplit the data on 'school_code' and 'class':\")\n",
        "grouped = student_data.groupby(['school_code', 'class'])\n",
        "\n",
        "\n",
        "for name, group in grouped:\n",
        "    print(\"\\nGroup:\")\n",
        "    print(name)\n",
        "    print(group)\n"
      ],
      "metadata": {
        "id": "UyHM9-AnyMWl",
        "colab": {
          "base_uri": "https://localhost:8080/"
        },
        "outputId": "fdfb3617-21da-429d-b831-33e8d829843b"
      },
      "execution_count": 18,
      "outputs": [
        {
          "output_type": "stream",
          "name": "stdout",
          "text": [
            "Original DataFrame:\n",
            "  school_code class            name date_of_birth  age  height  weight\n",
            "0        s001     V  Alberto Franco    15/05/2002   12     173      35\n",
            "1        s002     V    Gino Mcneill    17/05/2002   12     192      32\n",
            "2        s003    VI     Ryan Parkes    16/02/1999   13     186      33\n",
            "3        s001    VI    Eesha Hinton    25/09/1998   13     167      30\n",
            "4        s002     V    David Parkes    11/05/2002   14     151      31\n",
            "5        s004    VI    Gino Mcneill    15/09/1997   12     159      32\n",
            "\n",
            "Split the data on 'school_code' and 'class':\n",
            "\n",
            "Group:\n",
            "('s001', 'V')\n",
            "  school_code class            name date_of_birth  age  height  weight\n",
            "0        s001     V  Alberto Franco    15/05/2002   12     173      35\n",
            "\n",
            "Group:\n",
            "('s001', 'VI')\n",
            "  school_code class          name date_of_birth  age  height  weight\n",
            "3        s001    VI  Eesha Hinton    25/09/1998   13     167      30\n",
            "\n",
            "Group:\n",
            "('s002', 'V')\n",
            "  school_code class          name date_of_birth  age  height  weight\n",
            "1        s002     V  Gino Mcneill    17/05/2002   12     192      32\n",
            "4        s002     V  David Parkes    11/05/2002   14     151      31\n",
            "\n",
            "Group:\n",
            "('s003', 'VI')\n",
            "  school_code class         name date_of_birth  age  height  weight\n",
            "2        s003    VI  Ryan Parkes    16/02/1999   13     186      33\n",
            "\n",
            "Group:\n",
            "('s004', 'VI')\n",
            "  school_code class          name date_of_birth  age  height  weight\n",
            "5        s004    VI  Gino Mcneill    15/09/1997   12     159      32\n"
          ]
        }
      ]
    },
    {
      "cell_type": "code",
      "source": [
        "df = pd.read_csv('/content/data.csv')"
      ],
      "metadata": {
        "id": "VxlBFF0a1QPV"
      },
      "execution_count": 30,
      "outputs": []
    },
    {
      "cell_type": "code",
      "source": [
        "print(\"\\nStep 7: Statistical Description\")\n",
        "print(df.describe())"
      ],
      "metadata": {
        "colab": {
          "base_uri": "https://localhost:8080/"
        },
        "id": "e3zXDrAm1hgI",
        "outputId": "ecf6a54b-45a2-449e-8c02-367193682323"
      },
      "execution_count": 31,
      "outputs": [
        {
          "output_type": "stream",
          "name": "stdout",
          "text": [
            "\n",
            "Step 7: Statistical Description\n",
            "         Duration       Pulse    Maxpulse     Calories\n",
            "count  169.000000  169.000000  169.000000   164.000000\n",
            "mean    63.846154  107.461538  134.047337   375.790244\n",
            "std     42.299949   14.510259   16.450434   266.379919\n",
            "min     15.000000   80.000000  100.000000    50.300000\n",
            "25%     45.000000  100.000000  124.000000   250.925000\n",
            "50%     60.000000  105.000000  131.000000   318.600000\n",
            "75%     60.000000  111.000000  141.000000   387.600000\n",
            "max    300.000000  159.000000  184.000000  1860.400000\n"
          ]
        }
      ]
    },
    {
      "cell_type": "code",
      "source": [
        "print(\"\\nStep 8a: Null Values Check\")\n",
        "print(df2.isnull().sum())\n",
        "df2.fillna(df2.mean(numeric_only=True), inplace=True)"
      ],
      "metadata": {
        "colab": {
          "base_uri": "https://localhost:8080/"
        },
        "id": "PtDqxUwI1lLp",
        "outputId": "7fa10b5a-4bd6-4199-efdd-f09971226bcf"
      },
      "execution_count": 21,
      "outputs": [
        {
          "output_type": "stream",
          "name": "stdout",
          "text": [
            "\n",
            "Step 8a: Null Values Check\n",
            "Duration    0\n",
            "Pulse       0\n",
            "Calories    0\n",
            "Maxpulse    0\n",
            "dtype: int64\n"
          ]
        }
      ]
    },
    {
      "cell_type": "code",
      "source": [
        "print(\"\\nStep 9: Aggregation on Duration and Calories\")\n",
        "print(df[['Duration', 'Calories']].agg(['min', 'max', 'count', 'mean']))"
      ],
      "metadata": {
        "colab": {
          "base_uri": "https://localhost:8080/"
        },
        "id": "RG6vbelp1pLk",
        "outputId": "47e8edda-d3d8-4213-f9fe-f731f2eeb109"
      },
      "execution_count": 32,
      "outputs": [
        {
          "output_type": "stream",
          "name": "stdout",
          "text": [
            "\n",
            "Step 9: Aggregation on Duration and Calories\n",
            "         Duration     Calories\n",
            "min     15.000000    50.300000\n",
            "max    300.000000  1860.400000\n",
            "count  169.000000   164.000000\n",
            "mean    63.846154   375.790244\n"
          ]
        }
      ]
    },
    {
      "cell_type": "code",
      "source": [
        "print(\"\\nStep 10: Calories between 500 and 1000\")\n",
        "print(df[(df['Calories'] >= 500) & (df2['Calories'] <= 1000)])"
      ],
      "metadata": {
        "colab": {
          "base_uri": "https://localhost:8080/"
        },
        "id": "y_PwyssD1sHH",
        "outputId": "f265c320-5f20-4f85-b7ec-ab37afb77ccf"
      },
      "execution_count": 33,
      "outputs": [
        {
          "output_type": "stream",
          "name": "stdout",
          "text": [
            "\n",
            "Step 10: Calories between 500 and 1000\n",
            "Empty DataFrame\n",
            "Columns: [Duration, Pulse, Maxpulse, Calories]\n",
            "Index: []\n"
          ]
        }
      ]
    },
    {
      "cell_type": "code",
      "source": [
        "print(\"\\nStep 11: Calories > 500 and Pulse < 100\")\n",
        "print(df[(df['Calories'] > 500) & (df2['Pulse'] < 100)])"
      ],
      "metadata": {
        "colab": {
          "base_uri": "https://localhost:8080/"
        },
        "id": "4ogdSzAP1u7H",
        "outputId": "c72a1e41-bcf7-4d85-bbf6-e8635e61b9f4"
      },
      "execution_count": 34,
      "outputs": [
        {
          "output_type": "stream",
          "name": "stdout",
          "text": [
            "\n",
            "Step 11: Calories > 500 and Pulse < 100\n",
            "Empty DataFrame\n",
            "Columns: [Duration, Pulse, Maxpulse, Calories]\n",
            "Index: []\n"
          ]
        }
      ]
    },
    {
      "cell_type": "code",
      "source": [
        "df_modified = df.drop(columns=['Maxpulse'])\n",
        "print(\"\\nStep 12: df_modified (without Maxpulse)\")\n",
        "print(df_modified.head())"
      ],
      "metadata": {
        "colab": {
          "base_uri": "https://localhost:8080/"
        },
        "id": "7ZEeH4vj1x8M",
        "outputId": "c29050b6-1ac0-4c03-adc0-6b6287426d55"
      },
      "execution_count": 35,
      "outputs": [
        {
          "output_type": "stream",
          "name": "stdout",
          "text": [
            "\n",
            "Step 12: df_modified (without Maxpulse)\n",
            "   Duration  Pulse  Calories\n",
            "0        60    110     409.1\n",
            "1        60    117     479.0\n",
            "2        60    103     340.0\n",
            "3        45    109     282.4\n",
            "4        45    117     406.0\n"
          ]
        }
      ]
    },
    {
      "cell_type": "code",
      "source": [
        "del df['Maxpulse']"
      ],
      "metadata": {
        "id": "whY0ip0S12Yv"
      },
      "execution_count": 36,
      "outputs": []
    },
    {
      "cell_type": "code",
      "source": [
        "df2['Calories'] = df2['Calories'].astype(int)\n",
        "print(\"\\nStep 14: Calories column data type\")\n",
        "print(df2.dtypes)"
      ],
      "metadata": {
        "colab": {
          "base_uri": "https://localhost:8080/"
        },
        "id": "usOwMAWP15Pm",
        "outputId": "a3ccda51-35c8-4bd9-f504-3148785abc63"
      },
      "execution_count": 38,
      "outputs": [
        {
          "output_type": "stream",
          "name": "stdout",
          "text": [
            "\n",
            "Step 14: Calories column data type\n",
            "Duration    int64\n",
            "Pulse       int64\n",
            "Calories    int64\n",
            "dtype: object\n"
          ]
        }
      ]
    },
    {
      "cell_type": "code",
      "source": [
        "plt.scatter(df['Duration'], df['Calories'], color='blue')\n",
        "plt.title('Duration vs Calories')\n",
        "plt.xlabel('Duration')\n",
        "plt.ylabel('Calories')\n",
        "plt.grid(True)\n",
        "plt.show()\n"
      ],
      "metadata": {
        "colab": {
          "base_uri": "https://localhost:8080/",
          "height": 472
        },
        "id": "sau0OFAJ2Ful",
        "outputId": "7bccf7d7-e5aa-4f7c-b5cb-9f00802c5db7"
      },
      "execution_count": 39,
      "outputs": [
        {
          "output_type": "display_data",
          "data": {
            "text/plain": [
              "<Figure size 640x480 with 1 Axes>"
            ],
            "image/png": "[encoded data removed]"
          },
          "metadata": {}
        }
      ]
    }
  ]
}