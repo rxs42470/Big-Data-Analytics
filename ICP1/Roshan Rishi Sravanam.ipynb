{
  "nbformat": 4,
  "nbformat_minor": 0,
  "metadata": {
    "colab": {
      "provenance": []
    },
    "kernelspec": {
      "name": "python3",
      "display_name": "Python 3"
    },
    "language_info": {
      "name": "python"
    }
  },
  "cells": [
    {
      "cell_type": "code",
      "execution_count": 5,
      "metadata": {
        "colab": {
          "base_uri": "https://localhost:8080/"
        },
        "id": "FYnsweFAbEdj",
        "outputId": "896cc4eb-7759-4ef0-d025-ce3b66fd16a2"
      },
      "outputs": [
        {
          "output_type": "stream",
          "name": "stdout",
          "text": [
            "python\n",
            "nohy\n"
          ]
        }
      ],
      "source": [
        "str1=input()\n",
        "list1=list(str1)\n",
        "if len(list1)>=3:\n",
        "  del list1[0]\n",
        "  del list1[1]\n",
        "else:\n",
        "  print(\"String too short\")\n",
        "list1.reverse()\n",
        "print(''.join(list1))"
      ]
    },
    {
      "cell_type": "markdown",
      "source": [],
      "metadata": {
        "id": "5_3ce3CZd7AJ"
      }
    },
    {
      "cell_type": "code",
      "source": [
        "a=float(input(\"Enter the first number\"))\n",
        "b=float(input(\"Enter the second number\"))\n",
        "print(a+b)\n",
        "print(a-b)\n",
        "print(a*b)\n",
        "print(a/b)\n"
      ],
      "metadata": {
        "colab": {
          "base_uri": "https://localhost:8080/"
        },
        "id": "cfflGv2Dd9Lg",
        "outputId": "3585d850-f514-474c-c1be-350189699f36"
      },
      "execution_count": 8,
      "outputs": [
        {
          "output_type": "stream",
          "name": "stdout",
          "text": [
            "Enter the first number12\n",
            "Enter the second number2\n",
            "14.0\n",
            "10.0\n",
            "24.0\n",
            "6.0\n"
          ]
        }
      ]
    },
    {
      "cell_type": "code",
      "source": [
        "str1=input(\"Enter the string containing python\")\n",
        "str2=str1.replace(\"python\",\"pythons\")\n",
        "print(str2)"
      ],
      "metadata": {
        "colab": {
          "base_uri": "https://localhost:8080/"
        },
        "id": "hGcycMB7gKhq",
        "outputId": "2788bb09-0d62-424c-ef67-cca3ff6773a8"
      },
      "execution_count": 9,
      "outputs": [
        {
          "output_type": "stream",
          "name": "stdout",
          "text": [
            "Enter the string containing pythonhey there python\n",
            "hey there pythons\n"
          ]
        }
      ]
    },
    {
      "cell_type": "code",
      "source": [
        "x = [23, 'Python', 23.98]\n",
        "print(x)\n",
        "types = [type(item) for item in x]\n",
        "print(types)"
      ],
      "metadata": {
        "colab": {
          "base_uri": "https://localhost:8080/"
        },
        "id": "lGf_HIQuh1Ji",
        "outputId": "b59a7469-447b-4dc8-b79d-2aca6e6b8418"
      },
      "execution_count": 10,
      "outputs": [
        {
          "output_type": "stream",
          "name": "stdout",
          "text": [
            "[23, 'Python', 23.98]\n",
            "[<class 'int'>, <class 'str'>, <class 'float'>]\n"
          ]
        }
      ]
    },
    {
      "cell_type": "code",
      "source": [
        "n=int(input(\"Enter the score\"))\n",
        "if n>=90 and n<=100:\n",
        "  print(\"A Grade\")\n",
        "elif n>=80 and n<=89:\n",
        "  print(\"B Grade\")\n",
        "elif n>=70 and n<=79:\n",
        "  print(\"C Grade\")\n",
        "elif n>=60 and n<=69:\n",
        "  print(\"D Grade\")\n",
        "else:\n",
        "  print(\"E Grade\")\n"
      ],
      "metadata": {
        "colab": {
          "base_uri": "https://localhost:8080/"
        },
        "id": "plcxE2mPySsV",
        "outputId": "3e3e46e1-e46c-496b-9777-461e56caac47"
      },
      "execution_count": 18,
      "outputs": [
        {
          "output_type": "stream",
          "name": "stdout",
          "text": [
            "Enter the score99\n",
            "A Grade\n"
          ]
        }
      ]
    },
    {
      "cell_type": "code",
      "source": [
        "IT_companies = {'Facebook', 'Google', 'Microsoft', 'Apple', 'IBM', 'Oracle', 'Amazon'}\n",
        "A = {19, 22, 24, 20, 25, 26}\n",
        "B = {19, 22, 20, 25, 26, 24, 28, 27}\n",
        "age = [22, 19, 24, 25, 26, 24, 25, 24]\n",
        "print(\"Length of IT_companies:\", len(IT_companies))\n",
        "IT_companies.add('Twitter')\n",
        "print(\"After adding Twitter:\", IT_companies)\n",
        "IT_companies.update(['Tesla', 'Intel', 'Adobe'])\n",
        "print(\"After adding multiple companies:\", IT_companies)\n",
        "IT_companies.remove('Intel')\n",
        "print(\"After removing Intel:\", IT_companies)\n",
        "print(\"\\nDifference between remove and discard:\")\n",
        "print(\"- remove(): raises KeyError if item not found\")\n",
        "print(\"- discard(): does nothing if item not found\")\n",
        "print(\"\\nA union B:\", A.union(B))\n",
        "print(\"A intersection B:\", A.intersection(B))\n",
        "\n",
        "print(\"Is A subset of B?\", A.issubset(B))\n",
        "\n",
        "print(\"Are A and B disjoint?\", A.isdisjoint(B))\n",
        "print(\"A | B:\", A | B)\n",
        "print(\"B | A:\", B | A)\n",
        "\n",
        "\n",
        "print(\"Symmetric difference (A ^ B):\", A.symmetric_difference(B))\n",
        "\n",
        "del IT_companies\n",
        "del A\n",
        "del B\n",
        "\n",
        "age_set = set(age)\n",
        "print(\"\\nOriginal age list length:\", len(age))\n",
        "print(\"Converted age set length:\", len(age_set))"
      ],
      "metadata": {
        "colab": {
          "base_uri": "https://localhost:8080/"
        },
        "collapsed": true,
        "id": "wia_x9MviXSQ",
        "outputId": "6297cd19-7672-4e86-f72d-cfb83857df6f"
      },
      "execution_count": 11,
      "outputs": [
        {
          "output_type": "stream",
          "name": "stdout",
          "text": [
            "Length of IT_companies: 7\n",
            "After adding Twitter: {'Google', 'Oracle', 'Amazon', 'Apple', 'IBM', 'Twitter', 'Facebook', 'Microsoft'}\n",
            "After adding multiple companies: {'Amazon', 'Tesla', 'Apple', 'IBM', 'Intel', 'Google', 'Oracle', 'Adobe', 'Twitter', 'Facebook', 'Microsoft'}\n",
            "After removing Intel: {'Amazon', 'Tesla', 'Apple', 'IBM', 'Google', 'Oracle', 'Adobe', 'Twitter', 'Facebook', 'Microsoft'}\n",
            "\n",
            "Difference between remove and discard:\n",
            "- remove(): raises KeyError if item not found\n",
            "- discard(): does nothing if item not found\n",
            "\n",
            "A union B: {19, 20, 22, 24, 25, 26, 27, 28}\n",
            "A intersection B: {19, 20, 22, 24, 25, 26}\n",
            "Is A subset of B? True\n",
            "Are A and B disjoint? False\n",
            "A | B: {19, 20, 22, 24, 25, 26, 27, 28}\n",
            "B | A: {19, 20, 22, 24, 25, 26, 27, 28}\n",
            "Symmetric difference (A ^ B): {27, 28}\n",
            "\n",
            "Original age list length: 8\n",
            "Converted age set length: 5\n"
          ]
        }
      ]
    },
    {
      "cell_type": "markdown",
      "source": [],
      "metadata": {
        "id": "jIbc9j2Ad6Xd"
      }
    }
  ]
}