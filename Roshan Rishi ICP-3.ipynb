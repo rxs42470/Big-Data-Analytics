{
  "cells": [
    {
      "cell_type": "markdown",
      "id": "ceac7d5a",
      "metadata": {
        "id": "ceac7d5a"
      },
      "source": [
        "# CS5620 - In-Class Programming Assignment 3\n",
        "**Summer 2025**\n",
        "### Topic: NumPy"
      ]
    },
    {
      "cell_type": "code",
      "execution_count": null,
      "id": "d1376a2f",
      "metadata": {
        "id": "d1376a2f"
      },
      "outputs": [],
      "source": [
        "import numpy as np\n",
        "\n",
        "arr = np.random.randint(1, 21, size=15)\n",
        "print(\"Original Array:\", arr)\n",
        "\n",
        "\n",
        "reshaped_arr = arr.reshape(3, 5)\n",
        "print(\"\\nReshaped Array (3x5):\\n\", reshaped_arr)\n",
        "\n",
        "\n",
        "print(\"\\nShape:\", reshaped_arr.shape)\n",
        "\n",
        "\n",
        "for i in range(reshaped_arr.shape[0]):\n",
        "    max_index = reshaped_arr[i].argmax()\n",
        "    reshaped_arr[i][max_index] = 0\n",
        "\n",
        "print(\"\\nModified Array (max in each row replaced by 0):\\n\", reshaped_arr)\n"
      ]
    },
    {
      "cell_type": "code",
      "execution_count": null,
      "id": "03706fb8",
      "metadata": {
        "id": "03706fb8"
      },
      "outputs": [],
      "source": [
        "\n",
        "arr_2d = np.zeros((4, 3), dtype=np.int32)\n",
        "print(\"Array:\\n\", arr_2d)\n",
        "print(\"Shape:\", arr_2d.shape)\n",
        "print(\"Type:\", type(arr_2d))\n",
        "print(\"Data type:\", arr_2d.dtype)\n"
      ]
    },
    {
      "cell_type": "code",
      "execution_count": null,
      "id": "80c1cf3f",
      "metadata": {
        "id": "80c1cf3f"
      },
      "outputs": [],
      "source": [
        "\n",
        "matrix = np.array([[3, -2], [1, 0]])\n",
        "eigenvalues, eigenvectors = np.linalg.eig(matrix)\n",
        "print(\"Eigenvalues:\", eigenvalues)\n",
        "print(\"Eigenvectors:\\n\", eigenvectors)\n"
      ]
    },
    {
      "cell_type": "code",
      "execution_count": null,
      "id": "740af5cb",
      "metadata": {
        "id": "740af5cb"
      },
      "outputs": [],
      "source": [
        "\n",
        "arr_diag = np.array([[0, 1, 2], [3, 4, 5]])\n",
        "diag_sum = np.trace(arr_diag)\n",
        "print(\"Sum of diagonal elements:\", diag_sum)\n"
      ]
    },
    {
      "cell_type": "code",
      "execution_count": null,
      "id": "a245fcf5",
      "metadata": {
        "id": "a245fcf5"
      },
      "outputs": [],
      "source": [
        "\n",
        "original = np.array([[1, 2], [3, 4], [5, 6]])\n",
        "reshaped = original.reshape(2, 3)\n",
        "print(\"Original 3x2 array:\\n\", original)\n",
        "print(\"\\nReshaped to 2x3:\\n\", reshaped)\n"
      ]
    }
  ],
  "metadata": {
    "colab": {
      "provenance": []
    }
  },
  "nbformat": 4,
  "nbformat_minor": 5
}